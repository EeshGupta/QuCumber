{
 "cells": [
  {
   "cell_type": "markdown",
   "metadata": {},
   "source": [
    "# Reconstruction of a positive-real wavefunction\n",
    "\n",
    "This tutorial shows how to reconstruct a **positive-real** wavefunction via training a *Restricted Boltzmann Machine* (RBM), the neural network behind QuCumber. The data used for training are $\\sigma^{z}$ measurements from a one-dimensional transverse-field Ising model (TFIM) with 10 sites at its critical point.\n",
    "\n",
    "## Transverse-field Ising model\n",
    "The example dataset, located in `tfim1d_data.txt`, comprises 10,000 $\\sigma^{z}$ measurements from a one-dimensional TFIM with 10 sites at its critical point. The Hamiltonian for the TFIM is given by\n",
    "\n",
    "$$H = -J\\sum_i \\sigma^z_i \\sigma^z_{i+1} - h \\sum_i\\sigma^x_i$$\n",
    "\n",
    "where $\\sigma^{z}_i$ is the conventional spin-1/2 Pauli operator on site $i$. At the critical point, $J=h=1$. By convention, spins are represented in binary notation with zero and one denoting the states spin-down and spin-up, respectively.\n",
    "\n",
    "## Using QuCumber to reconstruct the wavefunction\n",
    "\n",
    "### Imports\n",
    "To begin the tutorial, first import the required Python packages."
   ]
  },
  {
   "cell_type": "code",
   "execution_count": 1,
   "metadata": {},
   "outputs": [],
   "source": [
    "import numpy as np\n",
    "import matplotlib.pyplot as plt\n",
    "\n",
    "from qucumber.nn_states import PositiveWaveFunction\n",
    "from qucumber.callbacks import MetricEvaluator\n",
    "\n",
    "import qucumber.utils.training_statistics as ts\n",
    "import qucumber.utils.data as data\n",
    "import qucumber\n",
    "\n",
    "# set random seed on cpu but not gpu, since we won't use gpu for this tutorial\n",
    "qucumber.set_random_seed(1234, cpu=True, gpu=False)"
   ]
  },
  {
   "cell_type": "markdown",
   "metadata": {},
   "source": [
    "The Python class `PositiveWaveFunction` contains generic properties of a RBM meant to reconstruct a positive-real wavefunction, the most notable one being the gradient function required for stochastic gradient descent.\n",
    "\n",
    "To instantiate a `PositiveWaveFunction` object, one needs to specify the number of visible and hidden units in the RBM. The number of visible units, `num_visible`, is given by the size of the physical system, i.e. the number of spins or qubits (10 in this case), while the number of hidden units, `num_hidden`, can be varied to change the expressiveness of the neural network.\n",
    "\n",
    "**Note:** The optimal `num_hidden` : `num_visible` ratio will depend on the system. For the TFIM, having this ratio be equal to 1 leads to good results with reasonable computational effort.\n",
    "\n",
    "### Training\n",
    "To evaluate the training in real time, we compute the fidelity between the true ground-state wavefunction of the system and the wavefunction that QuCumber reconstructs, $\\vert\\langle\\psi\\vert\\psi_{RBM}\\rangle\\vert^2$, along with the Kullback-Leibler (KL) divergence (the RBM's cost function). As will be shown below, any custom function can be used to evaluate the training.\n",
    "\n",
    "First, the training data and the true wavefunction of this system must be loaded using the `data` utility."
   ]
  },
  {
   "cell_type": "code",
   "execution_count": 2,
   "metadata": {},
   "outputs": [],
   "source": [
    "psi_path = \"tfim1d_psi.txt\"\n",
    "train_path = \"tfim1d_data.txt\"\n",
    "train_data, true_psi = data.load_data(train_path, psi_path)"
   ]
  },
  {
   "cell_type": "markdown",
   "metadata": {},
   "source": [
    "As previously mentioned, to instantiate a `PositiveWaveFunction` object, one needs to specify the number of visible and hidden units in the RBM; we choose them to be equal."
   ]
  },
  {
   "cell_type": "code",
   "execution_count": 3,
   "metadata": {},
   "outputs": [],
   "source": [
    "nv = train_data.shape[-1]\n",
    "nh = nv\n",
    "\n",
    "nn_state = PositiveWaveFunction(num_visible=nv, num_hidden=nh, gpu=False)"
   ]
  },
  {
   "cell_type": "markdown",
   "metadata": {},
   "source": [
    "If `gpu=True` (the default), QuCumber will attempt to run on a GPU if one is available (otherwise, QuCumber will default to CPU). If one `gpu=False`, QuCumber will run on the CPU.\n",
    "\n",
    "Now we specify the hyperparameters of the training process:\n",
    "\n",
    "1. `epochs`: the total number of training cycles that will be performed (default = 100)\n",
    "2. `pbs` (`pos_batch_size`): the number of data points used in the positive phase of the gradient (default = 100)\n",
    "3. `nbs` (`neg_batch_size`): the number of data points used in the negative phase of the gradient (default = 100)\n",
    "4. `k`: the number of contrastive divergence steps (default = 1)\n",
    "5. `lr`: the learning rate (default = 0.001)\n",
    "\n",
    "    **Note:** For more information on the hyperparameters above, it is strongly encouraged that the user to read through the brief, but thorough theory document on RBMs located in the QuCumber documentation. One does not have to specify these hyperparameters, as their default values will be used without the user overwriting them. It is recommended to keep with the default values until the user has a stronger grasp on what these hyperparameters mean. The quality and the computational efficiency of the training will highly depend on the choice of hyperparameters. As such, playing around with the hyperparameters is almost always necessary. \n",
    "    \n",
    "For the TFIM with 10 sites, the following hyperparameters give excellent results:"
   ]
  },
  {
   "cell_type": "code",
   "execution_count": 4,
   "metadata": {},
   "outputs": [],
   "source": [
    "epochs = 500\n",
    "pbs = 100\n",
    "nbs = pbs\n",
    "lr = 0.01\n",
    "k = 10"
   ]
  },
  {
   "cell_type": "markdown",
   "metadata": {},
   "source": [
    "For evaluating the training in real time, the `MetricEvaluator` is called every 100 epochs in order to calculate the training evaluators. The `MetricEvaluator` requires the following arguments:\n",
    "\n",
    "1. `period`: the frequency of the training evaluators being calculated (e.g. `period=100` means that the `MetricEvaluator` will do an evaluation every 100 epochs)\n",
    "2. A dictionary of functions you would like to reference to evaluate the training (arguments required for these functions are keyword arguments placed after the dictionary)\n",
    "\n",
    "The following additional arguments are needed to calculate the fidelity and KL divergence in the `training_statistics` utility:\n",
    "\n",
    "- `target_psi`: the true wavefunction of the system\n",
    "- `space`: the Hilbert space of the system\n",
    "\n",
    "The training evaluators can be printed out via the `verbose=True` statement.\n",
    "\n",
    "Although the fidelity and KL divergence are excellent training evaluators, they are not practical to calculate in most cases; the user may not have access to the target wavefunction of the system, nor may generating the Hilbert space of the system be computationally feasible. However, evaluating the training in real time is extremely convenient. \n",
    "\n",
    "Any custom function that the user would like to use to evaluate the training can be given to the `MetricEvaluator`, thus avoiding having to calculate fidelity and/or KL divergence. Any custom function given to `MetricEvaluator` must take the neural-network state (in this case, the `PositiveWaveFunction` object) and keyword arguments. As an example, we define a custom function `psi_coefficient`, which is the fifth coefficient of the reconstructed wavefunction multiplied by a parameter $A$."
   ]
  },
  {
   "cell_type": "code",
   "execution_count": 5,
   "metadata": {},
   "outputs": [],
   "source": [
    "def psi_coefficient(nn_state, space, A, **kwargs):\n",
    "    norm = nn_state.compute_normalization(space).sqrt_()\n",
    "    return A * nn_state.psi(space)[0][4] / norm"
   ]
  },
  {
   "cell_type": "markdown",
   "metadata": {},
   "source": [
    "Now the Hilbert space of the system can be generated for the fidelity and KL divergence."
   ]
  },
  {
   "cell_type": "code",
   "execution_count": 6,
   "metadata": {},
   "outputs": [],
   "source": [
    "period = 10\n",
    "space = nn_state.generate_hilbert_space()"
   ]
  },
  {
   "cell_type": "markdown",
   "metadata": {},
   "source": [
    "Now the training can begin. The `PositiveWaveFunction` object has a property called `fit` which takes care of this. `MetricEvaluator` must be passed to the `fit` function in a list (`callbacks`)."
   ]
  },
  {
   "cell_type": "code",
   "execution_count": 7,
   "metadata": {},
   "outputs": [
    {
     "name": "stdout",
     "output_type": "stream",
     "text": [
      "Epoch: 10\tFidelity = 0.500444\tKL = 1.434037\tA_Ψrbm_5 = 0.111008\n",
      "Epoch: 20\tFidelity = 0.570243\tKL = 1.098804\tA_Ψrbm_5 = 0.140842\n",
      "Epoch: 30\tFidelity = 0.681689\tKL = 0.712384\tA_Ψrbm_5 = 0.192823\n",
      "Epoch: 40\tFidelity = 0.781095\tKL = 0.457683\tA_Ψrbm_5 = 0.222722\n",
      "Epoch: 50\tFidelity = 0.840074\tKL = 0.326949\tA_Ψrbm_5 = 0.239039\n",
      "Epoch: 60\tFidelity = 0.875057\tKL = 0.252105\tA_Ψrbm_5 = 0.239344\n",
      "Epoch: 70\tFidelity = 0.895826\tKL = 0.211282\tA_Ψrbm_5 = 0.239159\n",
      "Epoch: 80\tFidelity = 0.907819\tKL = 0.190410\tA_Ψrbm_5 = 0.245369\n",
      "Epoch: 90\tFidelity = 0.914834\tKL = 0.177129\tA_Ψrbm_5 = 0.238663\n",
      "Epoch: 100\tFidelity = 0.920255\tKL = 0.167432\tA_Ψrbm_5 = 0.246280\n",
      "Epoch: 110\tFidelity = 0.924585\tKL = 0.158587\tA_Ψrbm_5 = 0.244731\n",
      "Epoch: 120\tFidelity = 0.928158\tKL = 0.150159\tA_Ψrbm_5 = 0.236318\n",
      "Epoch: 130\tFidelity = 0.932489\tKL = 0.140405\tA_Ψrbm_5 = 0.243707\n",
      "Epoch: 140\tFidelity = 0.936930\tKL = 0.130399\tA_Ψrbm_5 = 0.242923\n",
      "Epoch: 150\tFidelity = 0.941502\tKL = 0.120001\tA_Ψrbm_5 = 0.246340\n",
      "Epoch: 160\tFidelity = 0.946511\tKL = 0.108959\tA_Ψrbm_5 = 0.243519\n",
      "Epoch: 170\tFidelity = 0.951172\tKL = 0.098144\tA_Ψrbm_5 = 0.235464\n",
      "Epoch: 180\tFidelity = 0.955645\tKL = 0.088780\tA_Ψrbm_5 = 0.237005\n",
      "Epoch: 190\tFidelity = 0.959723\tKL = 0.080219\tA_Ψrbm_5 = 0.234366\n",
      "Epoch: 200\tFidelity = 0.962512\tKL = 0.074663\tA_Ψrbm_5 = 0.227764\n",
      "Epoch: 210\tFidelity = 0.965615\tKL = 0.068804\tA_Ψrbm_5 = 0.233611\n",
      "Epoch: 220\tFidelity = 0.967394\tKL = 0.065302\tA_Ψrbm_5 = 0.233936\n",
      "Epoch: 230\tFidelity = 0.969286\tKL = 0.061641\tA_Ψrbm_5 = 0.230911\n",
      "Epoch: 240\tFidelity = 0.970506\tKL = 0.059283\tA_Ψrbm_5 = 0.225389\n",
      "Epoch: 250\tFidelity = 0.971461\tKL = 0.057742\tA_Ψrbm_5 = 0.233186\n",
      "Epoch: 260\tFidelity = 0.973525\tKL = 0.053430\tA_Ψrbm_5 = 0.225180\n",
      "Epoch: 270\tFidelity = 0.975005\tKL = 0.050646\tA_Ψrbm_5 = 0.228983\n",
      "Epoch: 280\tFidelity = 0.976041\tKL = 0.048451\tA_Ψrbm_5 = 0.231805\n",
      "Epoch: 290\tFidelity = 0.977197\tKL = 0.046058\tA_Ψrbm_5 = 0.232667\n",
      "Epoch: 300\tFidelity = 0.977386\tKL = 0.045652\tA_Ψrbm_5 = 0.239462\n",
      "Epoch: 310\tFidelity = 0.979153\tKL = 0.042036\tA_Ψrbm_5 = 0.232371\n",
      "Epoch: 320\tFidelity = 0.979264\tKL = 0.041764\tA_Ψrbm_5 = 0.224176\n",
      "Epoch: 330\tFidelity = 0.981203\tKL = 0.037786\tA_Ψrbm_5 = 0.231017\n",
      "Epoch: 340\tFidelity = 0.982122\tKL = 0.035848\tA_Ψrbm_5 = 0.233144\n",
      "Epoch: 350\tFidelity = 0.982408\tKL = 0.035287\tA_Ψrbm_5 = 0.239080\n",
      "Epoch: 360\tFidelity = 0.983737\tKL = 0.032537\tA_Ψrbm_5 = 0.232325\n",
      "Epoch: 370\tFidelity = 0.984651\tKL = 0.030705\tA_Ψrbm_5 = 0.233523\n",
      "Epoch: 380\tFidelity = 0.985230\tKL = 0.029546\tA_Ψrbm_5 = 0.235031\n",
      "Epoch: 390\tFidelity = 0.985815\tKL = 0.028345\tA_Ψrbm_5 = 0.235860\n",
      "Epoch: 400\tFidelity = 0.986262\tKL = 0.027459\tA_Ψrbm_5 = 0.240407\n",
      "Epoch: 410\tFidelity = 0.986678\tKL = 0.026623\tA_Ψrbm_5 = 0.229870\n",
      "Epoch: 420\tFidelity = 0.987422\tKL = 0.025197\tA_Ψrbm_5 = 0.235147\n",
      "Epoch: 430\tFidelity = 0.987339\tKL = 0.025400\tA_Ψrbm_5 = 0.227832\n",
      "Epoch: 440\tFidelity = 0.988037\tKL = 0.023930\tA_Ψrbm_5 = 0.237405\n",
      "Epoch: 450\tFidelity = 0.988104\tKL = 0.023838\tA_Ψrbm_5 = 0.241163\n",
      "Epoch: 460\tFidelity = 0.988751\tKL = 0.022605\tA_Ψrbm_5 = 0.233818\n",
      "Epoch: 470\tFidelity = 0.988836\tKL = 0.022364\tA_Ψrbm_5 = 0.241944\n",
      "Epoch: 480\tFidelity = 0.989127\tKL = 0.021844\tA_Ψrbm_5 = 0.235669\n",
      "Epoch: 490\tFidelity = 0.989361\tKL = 0.021288\tA_Ψrbm_5 = 0.242225\n",
      "Epoch: 500\tFidelity = 0.989816\tKL = 0.020486\tA_Ψrbm_5 = 0.232313\n",
      "Total time elapsed during training: 87.096 s\n"
     ]
    }
   ],
   "source": [
    "callbacks = [\n",
    "    MetricEvaluator(\n",
    "        period,\n",
    "        {\"Fidelity\": ts.fidelity, \"KL\": ts.KL, \"A_Ψrbm_5\": psi_coefficient},\n",
    "        target=true_psi,\n",
    "        verbose=True,\n",
    "        space=space,\n",
    "        A=3.0,\n",
    "    )\n",
    "]\n",
    "\n",
    "nn_state.fit(\n",
    "    train_data,\n",
    "    epochs=epochs,\n",
    "    pos_batch_size=pbs,\n",
    "    neg_batch_size=nbs,\n",
    "    lr=lr,\n",
    "    k=k,\n",
    "    callbacks=callbacks,\n",
    "    time=True,\n",
    ")"
   ]
  },
  {
   "cell_type": "markdown",
   "metadata": {},
   "source": [
    "All of these training evaluators can be accessed after the training has completed. The code below shows this, along with plots of each training evaluator as a function of epoch (training cycle number)."
   ]
  },
  {
   "cell_type": "code",
   "execution_count": 8,
   "metadata": {},
   "outputs": [],
   "source": [
    "# Note that the key given to the *MetricEvaluator* must be\n",
    "# what comes after callbacks[0].\n",
    "fidelities = callbacks[0].Fidelity\n",
    "\n",
    "# Alternatively, we can use the usual dictionary/list subsripting\n",
    "# syntax. This is useful in cases where the name of the\n",
    "# metric contains special characters or spaces.\n",
    "KLs = callbacks[0][\"KL\"]\n",
    "coeffs = callbacks[0][\"A_Ψrbm_5\"]\n",
    "\n",
    "epoch = np.arange(period, epochs + 1, period)"
   ]
  },
  {
   "cell_type": "code",
   "execution_count": 9,
   "metadata": {},
   "outputs": [],
   "source": [
    "# Some parameters to make the plots look nice\n",
    "params = {\n",
    "    \"text.usetex\": True,\n",
    "    \"font.family\": \"serif\",\n",
    "    \"legend.fontsize\": 14,\n",
    "    \"figure.figsize\": (10, 3),\n",
    "    \"axes.labelsize\": 16,\n",
    "    \"xtick.labelsize\": 14,\n",
    "    \"ytick.labelsize\": 14,\n",
    "    \"lines.linewidth\": 2,\n",
    "    \"lines.markeredgewidth\": 0.8,\n",
    "    \"lines.markersize\": 5,\n",
    "    \"lines.marker\": \"o\",\n",
    "    \"patch.edgecolor\": \"black\",\n",
    "}\n",
    "plt.rcParams.update(params)\n",
    "plt.style.use(\"seaborn-deep\")"
   ]
  },
  {
   "cell_type": "code",
   "execution_count": 10,
   "metadata": {},
   "outputs": [
    {
     "data": {
      "image/png": "[encoded data removed]",
      "text/plain": [
       "<Figure size 1008x216 with 3 Axes>"
      ]
     },
     "metadata": {
      "needs_background": "light"
     },
     "output_type": "display_data"
    }
   ],
   "source": [
    "# Plotting\n",
    "fig, axs = plt.subplots(nrows=1, ncols=3, figsize=(14, 3))\n",
    "ax = axs[0]\n",
    "ax.plot(epoch, fidelities, \"o\", color=\"C0\", markeredgecolor=\"black\")\n",
    "ax.set_ylabel(r\"Fidelity\")\n",
    "ax.set_xlabel(r\"Epoch\")\n",
    "\n",
    "ax = axs[1]\n",
    "ax.plot(epoch, KLs, \"o\", color=\"C1\", markeredgecolor=\"black\")\n",
    "ax.set_ylabel(r\"KL Divergence\")\n",
    "ax.set_xlabel(r\"Epoch\")\n",
    "\n",
    "ax = axs[2]\n",
    "ax.plot(epoch, coeffs, \"o\", color=\"C2\", markeredgecolor=\"black\")\n",
    "ax.set_ylabel(r\"$A\\psi_{RBM}[5]$\")\n",
    "ax.set_xlabel(r\"Epoch\")\n",
    "\n",
    "plt.tight_layout()\n",
    "plt.show()"
   ]
  },
  {
   "cell_type": "markdown",
   "metadata": {},
   "source": [
    "It should be noted that one could have just ran `nn_state.fit(train_samples)`, which uses the default hyperparameters and no training evaluators.\n",
    "\n",
    "To demonstrate how important it is to find the optimal hyperparameters for a certain system, restart this notebook and comment out the original `fit` statement, then uncomment and run the cell below."
   ]
  },
  {
   "cell_type": "code",
   "execution_count": 11,
   "metadata": {},
   "outputs": [],
   "source": [
    "# nn_state.fit(train_samples)"
   ]
  },
  {
   "cell_type": "markdown",
   "metadata": {},
   "source": [
    "Using the non-default hyperparameters produced a fidelity of approximately $0.989$, while the default hyperparameters yield approximately $0.523$!\n",
    "\n",
    "The trained RBM can be saved to a pickle file with the name `saved_params.pt` for future use:"
   ]
  },
  {
   "cell_type": "code",
   "execution_count": 12,
   "metadata": {},
   "outputs": [],
   "source": [
    "nn_state.save(\"saved_params.pt\")"
   ]
  },
  {
   "cell_type": "markdown",
   "metadata": {},
   "source": [
    "This saves the weights, visible biases and hidden biases as torch tensors under the following keys: `weights`, `visible_bias`, `hidden_bias`."
   ]
  }
 ],
 "metadata": {
  "file_extension": ".py",
  "kernelspec": {
   "display_name": "Python 3",
   "language": "python",
   "name": "python3"
  },
  "language_info": {
   "codemirror_mode": {
    "name": "ipython",
    "version": 3
   },
   "file_extension": ".py",
   "mimetype": "text/x-python",
   "name": "python",
   "nbconvert_exporter": "python",
   "pygments_lexer": "ipython3",
   "version": "3.7.5"
  },
  "mimetype": "text/x-python",
  "name": "python",
  "npconvert_exporter": "python",
  "pygments_lexer": "ipython3",
  "version": 3
 },
 "nbformat": 4,
 "nbformat_minor": 2
}
