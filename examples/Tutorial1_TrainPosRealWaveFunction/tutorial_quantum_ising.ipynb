{
 "cells": [
  {
   "cell_type": "markdown",
   "metadata": {},
   "source": [
    "# Reconstruction of a positive-real wavefunction\n",
    "\n",
    "In this tutorial, a walkthrough of how to reconstruct a **positive-real** wavefunction via training a *Restricted Boltzmann Machine* (RBM), the neural network behind QuCumber, will be presented. The data used for training will be $\\sigma^{z}$ measurements from a one-dimensional transverse-field Ising model (TFIM) with 10 sites at its critical point.\n",
    "\n",
    "## Transverse-field Ising model\n",
    "The example dataset, located in `tfim1d_data.txt`, comprises of 10,000 $\\sigma^{z}$ measurements from a one-dimensional transverse-field Ising model (TFIM) with 10 sites at its critical point. The Hamiltonian for the transverse-field Ising model (TFIM) is given by\n",
    "\n",
    "\\begin{equation}\n",
    "\t\\mathcal{H} = -J\\sum_i \\sigma^z_i \\sigma^z_{i+1} - h \\sum_i\n",
    "\\sigma^x_i\n",
    "\\end{equation}\n",
    "\n",
    "where $\\sigma^{z}_i$ is the conventional spin-1/2 Pauli operator on site $i$. At the critical point, $J=h=1$. As per convention, spins are represented in binary notation with zero and one denoting spin-down and spin-up, respectively.\n",
    "\n",
    "## Using QuCumber to reconstruct the wavefunction\n",
    "\n",
    "### Imports\n",
    "To begin the tutorial, first import the required Python packages."
   ]
  },
  {
   "cell_type": "code",
   "execution_count": 1,
   "metadata": {
    "attributes": {
     "classes": [],
     "id": "",
     "n": "14"
    }
   },
   "outputs": [],
   "source": [
    "import numpy as np\n",
    "import matplotlib.pyplot as plt\n",
    "\n",
    "from qucumber.nn_states import PositiveWaveFunction\n",
    "from qucumber.callbacks import MetricEvaluator\n",
    "\n",
    "import qucumber.utils.training_statistics as ts\n",
    "import qucumber.utils.data as data"
   ]
  },
  {
   "cell_type": "markdown",
   "metadata": {},
   "source": [
    "The Python class `PositiveWaveFunction` contains generic properties of a RBM meant to reconstruct a positive-real wavefunction, the most notable one being the gradient function required for stochastic gradient descent.\n",
    "\n",
    "To instantiate a `PositiveWaveFunction` object, one needs to specify the number of visible and hidden units in the RBM. The number of visible units, `num_visible`, is given by the size of the physical system, i.e. the number of spins or qubits (10 in this case), while the number of hidden units, `num_hidden`, can be varied to change the expressiveness of the neural network.\n",
    "\n",
    "**Note:** The optimal `num_hidden` : `num_visible` ratio will depend on the system. For the TFIM, having this ratio be equal to 1 leads to good results with reasonable computational effort.\n",
    "\n",
    "### Training\n",
    "To evaluate the training in real time, the fidelity between the true ground-state wavefunction of the system and the wavefunction that QuCumber reconstructs, $\\vert\\langle\\psi\\vert\\psi_{RBM}\\rangle\\vert^2$, will be calculated along with the Kullback-Leibler (KL) divergence (the RBM's cost function). It will also be shown that any custom function can be used to evaluate the training.\n",
    "\n",
    "First, the training data and the true wavefunction of this system must be loaded using the *data* utility."
   ]
  },
  {
   "cell_type": "code",
   "execution_count": 2,
   "metadata": {
    "attributes": {
     "classes": [],
     "id": "",
     "n": "2"
    }
   },
   "outputs": [],
   "source": [
    "psi_path = \"tfim1d_psi.txt\"\n",
    "train_path = \"tfim1d_data.txt\"\n",
    "train_data, true_psi = data.load_data(train_path, psi_path)"
   ]
  },
  {
   "cell_type": "markdown",
   "metadata": {},
   "source": [
    "As previously mentioned, to instantiate a `PositiveWaveFunction` object, one needs to specify the number of visible and hidden units in the RBM. These two quantities equal will be kept equal."
   ]
  },
  {
   "cell_type": "code",
   "execution_count": 3,
   "metadata": {},
   "outputs": [],
   "source": [
    "nv = train_data.shape[-1]\n",
    "nh = nv\n",
    "\n",
    "nn_state = PositiveWaveFunction(num_visible=nv, num_hidden=nh)\n",
    "# nn_state = PositiveWaveFunction(num_visible=nv, num_hidden=nh, gpu = False)"
   ]
  },
  {
   "cell_type": "markdown",
   "metadata": {},
   "source": [
    "By default, QuCumber will attempt to run on a GPU if one is available (if one is not available, QuCumber will default to CPU). If one wishes to run QuCumber on a CPU, add the flag `gpu=False` in the `PositiveWaveFunction` object instantiation (i.e. uncomment the line above). \n",
    "\n",
    "Now the hyperparameters of the training process can be specified.\n",
    "\n",
    "1. `epochs`: the total number of training cycles that will be performed (default = 100)\n",
    "2. `pos_batch_size`: the number of data points used in the positive phase of the gradient (default = 100)\n",
    "3. `neg_batch_size`: the number of data points used in the negative phase of the gradient (default = `pos_batch_size`)\n",
    "4. `k`: the number of contrastive divergence steps (default = 1)\n",
    "5. `lr`: the learning rate (default = 0.001)\n",
    "\n",
    "    **Note:** For more information on the hyperparameters above, it is strongly encouraged that the user to read through the brief, but thorough theory document on RBMs located in the QuCumber documentation. One does not have to specify these hyperparameters, as their default values will be used without the user overwriting them. It is recommended to keep with the default values until the user has a stronger grasp on what these hyperparameters mean. The quality and the computational efficiency of the training will highly depend on the choice of hyperparameters. As such, playing around with the hyperparameters is almost always necessary. \n",
    "    \n",
    "For the TFIM with 10 sites, the following hyperparameters give excellent results."
   ]
  },
  {
   "cell_type": "code",
   "execution_count": 4,
   "metadata": {},
   "outputs": [],
   "source": [
    "epochs = 500\n",
    "pbs = 100  # pos_batch_size\n",
    "nbs = 200  # neg_batch_size\n",
    "lr = 0.01\n",
    "k = 10"
   ]
  },
  {
   "cell_type": "markdown",
   "metadata": {},
   "source": [
    "For evaluating the training in real time, the `MetricEvaluator` will be called in order to calculate the training evaluators every 100 epochs. The `MetricEvaluator` requires the following arguments.\n",
    "\n",
    "1. `period`: the frequency of the training evaluators being calculated is controlled by the `period` argument (e.g. `period=200` means that the `MetricEvaluator` will update the user every 200 epochs)\n",
    "2. A dictionary of functions you would like to reference to evaluate the training (arguments required for these functions are keyword arguments placed after the dictionary)\n",
    "\n",
    "The following additional arguments are needed to calculate the fidelity and KL divergence in the `training_statistics` utility.\n",
    "\n",
    "- `target_psi`: the true wavefunction of the system\n",
    "- `space`: the Hilbert space of the system\n",
    "\n",
    "The training evaluators can be printed out via the `verbose=True` statement.\n",
    "\n",
    "Although the fidelity and KL divergence are excellent training evaluators, they are not practical to calculate in most cases; the user may not have access to the target wavefunction of the system, nor may generating the Hilbert space of the system be computationally feasible. However, evaluating the training in real time is extremely convenient. \n",
    "\n",
    "Any custom function that the user would like to use to evaluate the training can be given to the `MetricEvaluator`, thus avoiding having to calculate fidelity and/or KL divergence. Any custom function given to `MetricEvaluator` must take the neural-network state (in this case, the `PositiveWaveFunction` object) and keyword arguments. As an example, the function to be passed to the `MetricEvaluator` will be the fifth coefficient of the reconstructed wavefunction multiplied by a parameter, $A$."
   ]
  },
  {
   "cell_type": "code",
   "execution_count": 5,
   "metadata": {},
   "outputs": [],
   "source": [
    "def psi_coefficient(nn_state, space, A, **kwargs):\n",
    "    norm = nn_state.compute_normalization(space).sqrt_()\n",
    "    return A * nn_state.psi(space)[0][4] / norm"
   ]
  },
  {
   "cell_type": "markdown",
   "metadata": {},
   "source": [
    "Now the hilbert space of the system can be generated for the fidelity and KL divergence and the dictionary of functions the user would like to compute every `period` epochs can be given to the `MetricEvaluator`."
   ]
  },
  {
   "cell_type": "code",
   "execution_count": 6,
   "metadata": {
    "attributes": {
     "classes": [],
     "id": "",
     "n": "2"
    }
   },
   "outputs": [],
   "source": [
    "period = 10\n",
    "space = nn_state.generate_hilbert_space(nv)"
   ]
  },
  {
   "cell_type": "markdown",
   "metadata": {},
   "source": [
    "Now the training can begin. The `PositiveWaveFunction` object has a property called `fit` which takes care of this. `MetricEvaluator` must be passed to the `fit` function in a list (`callbacks`)."
   ]
  },
  {
   "cell_type": "code",
   "execution_count": 7,
   "metadata": {},
   "outputs": [
    {
     "name": "stdout",
     "output_type": "stream",
     "text": [
      "Epoch: 10\tFidelity = 0.534941\tKL = 1.260048\tA_Ψrbm_5 = 0.116531\n",
      "Epoch: 20\tFidelity = 0.636866\tKL = 0.857609\tA_Ψrbm_5 = 0.169683\n",
      "Epoch: 30\tFidelity = 0.736682\tKL = 0.575945\tA_Ψrbm_5 = 0.208133\n",
      "Epoch: 40\tFidelity = 0.794755\tKL = 0.440940\tA_Ψrbm_5 = 0.226640\n",
      "Epoch: 50\tFidelity = 0.831520\tKL = 0.353924\tA_Ψrbm_5 = 0.234840\n",
      "Epoch: 60\tFidelity = 0.862574\tKL = 0.282083\tA_Ψrbm_5 = 0.238088\n",
      "Epoch: 70\tFidelity = 0.885912\tKL = 0.233535\tA_Ψrbm_5 = 0.242870\n",
      "Epoch: 80\tFidelity = 0.900656\tKL = 0.203658\tA_Ψrbm_5 = 0.237143\n",
      "Epoch: 90\tFidelity = 0.911208\tKL = 0.182475\tA_Ψrbm_5 = 0.237343\n",
      "Epoch: 100\tFidelity = 0.918912\tKL = 0.166443\tA_Ψrbm_5 = 0.231324\n",
      "Epoch: 110\tFidelity = 0.926300\tKL = 0.151879\tA_Ψrbm_5 = 0.240801\n",
      "Epoch: 120\tFidelity = 0.932397\tKL = 0.137685\tA_Ψrbm_5 = 0.230534\n",
      "Epoch: 130\tFidelity = 0.938690\tKL = 0.124218\tA_Ψrbm_5 = 0.231577\n",
      "Epoch: 140\tFidelity = 0.944510\tKL = 0.111655\tA_Ψrbm_5 = 0.225222\n",
      "Epoch: 150\tFidelity = 0.949794\tKL = 0.100720\tA_Ψrbm_5 = 0.227332\n",
      "Epoch: 160\tFidelity = 0.954023\tKL = 0.092029\tA_Ψrbm_5 = 0.222866\n",
      "Epoch: 170\tFidelity = 0.958097\tKL = 0.084130\tA_Ψrbm_5 = 0.226016\n",
      "Epoch: 180\tFidelity = 0.961439\tKL = 0.077638\tA_Ψrbm_5 = 0.228211\n",
      "Epoch: 190\tFidelity = 0.963652\tKL = 0.073456\tA_Ψrbm_5 = 0.224256\n",
      "Epoch: 200\tFidelity = 0.965993\tKL = 0.068942\tA_Ψrbm_5 = 0.221013\n",
      "Epoch: 210\tFidelity = 0.967833\tKL = 0.065555\tA_Ψrbm_5 = 0.220742\n",
      "Epoch: 220\tFidelity = 0.969344\tKL = 0.062550\tA_Ψrbm_5 = 0.219263\n",
      "Epoch: 230\tFidelity = 0.970622\tKL = 0.059982\tA_Ψrbm_5 = 0.220068\n",
      "Epoch: 240\tFidelity = 0.971988\tKL = 0.057298\tA_Ψrbm_5 = 0.217463\n",
      "Epoch: 250\tFidelity = 0.973524\tKL = 0.054281\tA_Ψrbm_5 = 0.221264\n",
      "Epoch: 260\tFidelity = 0.974584\tKL = 0.052146\tA_Ψrbm_5 = 0.218502\n",
      "Epoch: 270\tFidelity = 0.975617\tKL = 0.049899\tA_Ψrbm_5 = 0.217135\n",
      "Epoch: 280\tFidelity = 0.976913\tKL = 0.047288\tA_Ψrbm_5 = 0.218298\n",
      "Epoch: 290\tFidelity = 0.978150\tKL = 0.044736\tA_Ψrbm_5 = 0.214478\n",
      "Epoch: 300\tFidelity = 0.979212\tKL = 0.042611\tA_Ψrbm_5 = 0.219678\n",
      "Epoch: 310\tFidelity = 0.980419\tKL = 0.040171\tA_Ψrbm_5 = 0.220057\n",
      "Epoch: 320\tFidelity = 0.981252\tKL = 0.038439\tA_Ψrbm_5 = 0.219286\n",
      "Epoch: 330\tFidelity = 0.982365\tKL = 0.036267\tA_Ψrbm_5 = 0.221942\n",
      "Epoch: 340\tFidelity = 0.982638\tKL = 0.035651\tA_Ψrbm_5 = 0.217697\n",
      "Epoch: 350\tFidelity = 0.983759\tKL = 0.033440\tA_Ψrbm_5 = 0.220134\n",
      "Epoch: 360\tFidelity = 0.984440\tKL = 0.032067\tA_Ψrbm_5 = 0.219768\n",
      "Epoch: 370\tFidelity = 0.985045\tKL = 0.030901\tA_Ψrbm_5 = 0.217321\n",
      "Epoch: 380\tFidelity = 0.985576\tKL = 0.029898\tA_Ψrbm_5 = 0.222066\n",
      "Epoch: 390\tFidelity = 0.985822\tKL = 0.029499\tA_Ψrbm_5 = 0.220483\n",
      "Epoch: 400\tFidelity = 0.986610\tKL = 0.027838\tA_Ψrbm_5 = 0.216224\n",
      "Epoch: 410\tFidelity = 0.986830\tKL = 0.027407\tA_Ψrbm_5 = 0.219407\n",
      "Epoch: 420\tFidelity = 0.987248\tKL = 0.026607\tA_Ψrbm_5 = 0.218464\n",
      "Epoch: 430\tFidelity = 0.987026\tKL = 0.027048\tA_Ψrbm_5 = 0.222123\n",
      "Epoch: 440\tFidelity = 0.987700\tKL = 0.025744\tA_Ψrbm_5 = 0.220681\n",
      "Epoch: 450\tFidelity = 0.988019\tKL = 0.025160\tA_Ψrbm_5 = 0.219184\n",
      "Epoch: 460\tFidelity = 0.988265\tKL = 0.024712\tA_Ψrbm_5 = 0.219010\n",
      "Epoch: 470\tFidelity = 0.988460\tKL = 0.024316\tA_Ψrbm_5 = 0.214715\n",
      "Epoch: 480\tFidelity = 0.988744\tKL = 0.023759\tA_Ψrbm_5 = 0.214839\n",
      "Epoch: 490\tFidelity = 0.988667\tKL = 0.023881\tA_Ψrbm_5 = 0.218261\n",
      "Epoch: 500\tFidelity = 0.988650\tKL = 0.024005\tA_Ψrbm_5 = 0.210195\n"
     ]
    }
   ],
   "source": [
    "callbacks = [\n",
    "    MetricEvaluator(\n",
    "        period,\n",
    "        {\"Fidelity\": ts.fidelity, \"KL\": ts.KL, \"A_Ψrbm_5\": psi_coefficient},\n",
    "        target_psi=true_psi,\n",
    "        verbose=True,\n",
    "        space=space,\n",
    "        A=3.0,\n",
    "    )\n",
    "]\n",
    "\n",
    "nn_state.fit(\n",
    "    train_data,\n",
    "    epochs=epochs,\n",
    "    pos_batch_size=pbs,\n",
    "    neg_batch_size=nbs,\n",
    "    lr=lr,\n",
    "    k=k,\n",
    "    callbacks=callbacks,\n",
    ")"
   ]
  },
  {
   "cell_type": "markdown",
   "metadata": {},
   "source": [
    "All of these training evaluators can be accessed after the training has completed, as well. The code below shows this, along with plots of each training evaluator versus the training cycle number (epoch)."
   ]
  },
  {
   "cell_type": "code",
   "execution_count": 8,
   "metadata": {},
   "outputs": [],
   "source": [
    "# Note that the key given to the *MetricEvaluator* must be\n",
    "# what comes after callbacks[0].\n",
    "fidelities = callbacks[0].Fidelity\n",
    "\n",
    "# Alternatively, we can use the usual dictionary/list subsripting\n",
    "# syntax. This is useful in cases where the name of the\n",
    "# metric contains special characters or spaces.\n",
    "KLs = callbacks[0][\"KL\"]\n",
    "coeffs = callbacks[0][\"A_Ψrbm_5\"]\n",
    "\n",
    "epoch = np.arange(period, epochs + 1, period)"
   ]
  },
  {
   "cell_type": "code",
   "execution_count": 9,
   "metadata": {},
   "outputs": [],
   "source": [
    "# Some parameters to make the plots look nice\n",
    "params = {\n",
    "    \"text.usetex\": True,\n",
    "    \"font.family\": \"serif\",\n",
    "    \"legend.fontsize\": 14,\n",
    "    \"figure.figsize\": (10, 3),\n",
    "    \"axes.labelsize\": 16,\n",
    "    \"xtick.labelsize\": 14,\n",
    "    \"ytick.labelsize\": 14,\n",
    "    \"lines.linewidth\": 2,\n",
    "    \"lines.markeredgewidth\": 0.8,\n",
    "    \"lines.markersize\": 5,\n",
    "    \"lines.marker\": \"o\",\n",
    "    \"patch.edgecolor\": \"black\",\n",
    "}\n",
    "plt.rcParams.update(params)\n",
    "plt.style.use(\"seaborn-deep\")"
   ]
  },
  {
   "cell_type": "code",
   "execution_count": 10,
   "metadata": {},
   "outputs": [
    {
     "data": {
      "image/png": "[encoded data removed]",
      "text/plain": [
       "<Figure size 1008x216 with 3 Axes>"
      ]
     },
     "metadata": {
      "needs_background": "light"
     },
     "output_type": "display_data"
    }
   ],
   "source": [
    "# Plotting\n",
    "fig, axs = plt.subplots(nrows=1, ncols=3, figsize=(14, 3))\n",
    "ax = axs[0]\n",
    "ax.plot(epoch, fidelities, \"o\", color=\"C0\", markeredgecolor=\"black\")\n",
    "ax.set_ylabel(r\"Fidelity\")\n",
    "ax.set_xlabel(r\"Epoch\")\n",
    "\n",
    "ax = axs[1]\n",
    "ax.plot(epoch, KLs, \"o\", color=\"C1\", markeredgecolor=\"black\")\n",
    "ax.set_ylabel(r\"KL Divergence\")\n",
    "ax.set_xlabel(r\"Epoch\")\n",
    "\n",
    "ax = axs[2]\n",
    "ax.plot(epoch, coeffs, \"o\", color=\"C2\", markeredgecolor=\"black\")\n",
    "ax.set_ylabel(r\"$A\\psi_{RBM}[5]$\")\n",
    "ax.set_xlabel(r\"Epoch\")\n",
    "\n",
    "plt.tight_layout()\n",
    "plt.savefig(\"fid_KL.pdf\")\n",
    "plt.show()"
   ]
  },
  {
   "cell_type": "markdown",
   "metadata": {},
   "source": [
    "It should be noted that one could have just ran `nn_state.fit(train_samples)` and just used the default hyperparameters and no training evaluators.\n",
    "\n",
    "To demonstrate how important it is to find the optimal hyperparameters for a certain system, restart this notebook and comment out the original `fit` statement and uncomment the one below. The default hyperparameters will be used instead. Using the non-default hyperparameters yielded a fidelity of approximately $0.994$, while the default hyperparameters yielded a fidelity of approximately $0.523$!\n",
    "\n",
    "The RBM's parameters will also be saved for future use in other tutorials. They can be saved to a pickle file with the name `saved_params.pt` with the code below."
   ]
  },
  {
   "cell_type": "code",
   "execution_count": 11,
   "metadata": {},
   "outputs": [],
   "source": [
    "nn_state.save(\"saved_params.pt\")"
   ]
  },
  {
   "cell_type": "markdown",
   "metadata": {},
   "source": [
    "This saves the weights, visible biases and hidden biases as torch tensors with the following keys: \"weights\", \"visible_bias\", \"hidden_bias\"."
   ]
  }
 ],
 "metadata": {
  "kernelspec": {
   "display_name": "Python 3",
   "language": "python",
   "name": "python3"
  },
  "language_info": {
   "codemirror_mode": {
    "name": "ipython",
    "version": 3
   },
   "file_extension": ".py",
   "mimetype": "text/x-python",
   "name": "python",
   "nbconvert_exporter": "python",
   "pygments_lexer": "ipython3",
   "version": "3.6.6"
  }
 },
 "nbformat": 4,
 "nbformat_minor": 2
}
