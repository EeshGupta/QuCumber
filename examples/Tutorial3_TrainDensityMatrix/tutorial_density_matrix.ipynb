{
 "cells": [
  {
   "cell_type": "markdown",
   "metadata": {},
   "source": [
    "# Reconstruction of a density matrix\n",
    "\n",
    "In this tutorial, a walkthrough of how to reconstruct a density matrix via training a pair of modified *Restricted Boltzmann Machines* is presented\n",
    "\n",
    "\n",
    "## The density matrix to be reconstructed\n",
    "The density matrix that will be be reconstructed is the density matrix associated with the 2-qubit W state\n",
    "\n",
    "$$\\vert\\psi \\rangle = \\frac{1}{\\sqrt{2}}\\vert 01\\rangle + \\frac{1}{\\sqrt{2}}\\vert10\\rangle$$\n",
    "\n",
    "so that\n",
    "\n",
    "$$\\rho = \\vert\\psi\\rangle\\langle\\psi\\vert$$\n",
    "\n",
    "with global depolarization probability $p_{dep} = 0.5$ such that\n",
    "\n",
    "$$\\rho_{new} = \\left(1 - p_{dep}\\right)\\rho + \\frac{p_{dep}}{2^N} I$$\n",
    "\n",
    "where $I$ is the identity matrix, representing the maximally mixed state.\n",
    "\n",
    "The example dataset, `N2_W_state_100_samples_data.txt`, is comprised of 900 $\\sigma^z$ measurements, 100 in each of the $3^2$ permutations of two of the bases X, Y and Z. A corresponding file containing the bases for each data point, `N2_W_state_100_samples_bases.txt`, is also required. \n",
    "\n",
    "In this tutorial is also included versions with 1000 measurements in each basis, to illustrate the improvements to reconstruction fidelity of a larger data set. The measurements and bases are stored in `N2_W_state_1000_samples_data.txt`, and `N2_W_state_1000_samples_bases.txt` respectively.\n",
    "\n",
    "The set of all 3^2 bases in which measurements are made is stored in `N2_IC_bases.txt`. Finally, the real and imaginary parts of the matrix are stored in `N2_W_state_target_real.txt` and `N2_W_state_target_imag.txt` respectively. As per convention, spins are represented in binary notation with zero and one denoting spin-up and spin-down, respectively.\n",
    "\n",
    "## Using QuCumber to reconstruct the density matrix\n",
    "\n",
    "### Imports\n",
    "To begin the tutorial, first import the required Python packages."
   ]
  },
  {
   "cell_type": "code",
   "execution_count": 1,
   "metadata": {},
   "outputs": [],
   "source": [
    "import numpy as np\n",
    "import matplotlib.pyplot as plt\n",
    "\n",
    "import torch\n",
    "\n",
    "from qucumber.nn_states import DensityMatrix\n",
    "\n",
    "from qucumber.callbacks import MetricEvaluator\n",
    "import qucumber.utils.unitaries as unitaries\n",
    "\n",
    "import qucumber.utils.training_statistics as ts\n",
    "import qucumber.utils.data as data\n",
    "import qucumber\n",
    "\n",
    "# set random seed on cpu but not gpu, since we won't use gpu for this tutorial\n",
    "qucumber.set_random_seed(1234, cpu=True, gpu=False)"
   ]
  },
  {
   "cell_type": "markdown",
   "metadata": {},
   "source": [
    "The Python class `DensityMatrix` contains the properties of an RBM needed to reconstruct the density matrix, as demonstrated in [this paper here].\n",
    "\n",
    "To instantiate a `DensityMatrix` object, one needs to specify the number of visible, hidden and auxiliary units in the RBM. The number of visible units, `num_visible`, is given by the size of the physical system, i.e. the number of spins or qubits (2 in this case). On the other hand, the number of hidden units, `num_hidden`, can be varied to change the expressiveness of the neural network, and the number of auxiliary units, `num_aux`, can be varied depending on the extent of purification required of the system.\n",
    "\n",
    "On top of needing the number of visible, hidden and auxiliary units, a `DensityMatrix` object requires the user to input a dictionary containing the unitary operators (2x2) that will be used to rotate the qubits in and out of the computational basis, Z, during the training process. The `unitaries` utility will take care of creating this dictionary.\n",
    "\n",
    "The `MetricEvaluator` class and `training_statistics` utility are built-in amenities that will allow the user to evaluate the training in real time. \n",
    "\n",
    "\n",
    "### Training\n",
    "To evaluate the training in real time, the fidelity between the true wavefunction of the system and the wavefunction that QuCumber reconstructs, \n",
    "\n",
    "$$\\operatorname{Tr }\\left(\\sqrt{\\sqrt{\\rho_{RBM}}\\rho\\sqrt{\\rho_{RBM}}}\\right)$$\n",
    "\n",
    "will be calculated along with the Kullback-Leibler (KL) divergence (the RBM's cost function). First, the training data and the true wavefunction of this system need to be loaded using the `data` utility.\n",
    "\n",
    "[this paper here]: https://arxiv.org/pdf/1801.09684.pdf"
   ]
  },
  {
   "cell_type": "code",
   "execution_count": 2,
   "metadata": {
    "scrolled": false
   },
   "outputs": [],
   "source": [
    "train_path = \"N2_W_state_100_samples_data.txt\"\n",
    "train_bases_path = \"N2_W_state_100_samples_bases.txt\"\n",
    "matrix_path_real = \"N2_W_state_target_real.txt\"\n",
    "matrix_path_imag = \"N2_W_state_target_imag.txt\"\n",
    "bases_path = \"N2_IC_bases.txt\"\n",
    "\n",
    "\n",
    "train_samples, true_matrix, train_bases, bases = data.load_data_DM(\n",
    "    train_path, matrix_path_real, matrix_path_imag, train_bases_path, bases_path\n",
    ")"
   ]
  },
  {
   "cell_type": "markdown",
   "metadata": {},
   "source": [
    "The file `N2_IC_bases.txt` contains every unique basis in the `N2_W_state_100_samples_bases.txt` file. Calculation of the full KL divergence in every basis requires the user to specify each unique basis.\n",
    "\n",
    "As previously mentioned, a `DensityMatrix` object requires a dictionary that contains the unitary operators that will be used to rotate the qubits in and out of the computational basis, Z, during the training process. In the case of the provided dataset, the unitaries required are the well-known $H$, and $K$ gates. The dictionary needed can be created with the following command."
   ]
  },
  {
   "cell_type": "code",
   "execution_count": 3,
   "metadata": {},
   "outputs": [],
   "source": [
    "unitary_dict = unitaries.create_dict()\n",
    "# unitary_dict = unitaries.create_dict(unitary_name=torch.tensor([[real part],\n",
    "#                                                                 [imaginary part]],\n",
    "#                                                                 dtype=torch.double)"
   ]
  },
  {
   "cell_type": "markdown",
   "metadata": {},
   "source": [
    "If the user wishes to add their own unitary operators from their experiment to `unitary_dict`, uncomment the block above. When `unitaries.create_dict()` is called, it will contain the identity and the $H$ and $K$ gates by default under the keys \"Z\", \"X\" and \"Y\", respectively.\n",
    "\n",
    "The number of visible units in the RBM is equal to the number of qubits. The number of hidden units will also be taken to be the number of visible units."
   ]
  },
  {
   "cell_type": "code",
   "execution_count": 4,
   "metadata": {},
   "outputs": [],
   "source": [
    "nv = train_samples.shape[-1]\n",
    "nh = na = nv\n",
    "\n",
    "nn_state = DensityMatrix(\n",
    "    num_visible=nv, num_hidden=nh, num_aux=na, unitary_dict=unitary_dict, gpu=False\n",
    ")"
   ]
  },
  {
   "cell_type": "markdown",
   "metadata": {},
   "source": [
    "The number of visible, hidden, and auxiliary units must now be specified. These are given by `nv`, `nh` and `na` respectively. The number of visible units is equal to the size of the system. The hidden and auxiliary units are hyperparameters that must be provided by the user. With these, a `DensityMatrix` object can be instantiated."
   ]
  },
  {
   "cell_type": "markdown",
   "metadata": {},
   "source": [
    "Now the hyperparameters of the training process can be specified. \n",
    "\n",
    "1. `epochs`: the total number of training cycles that will be performed (default = 100)\n",
    "2. `pos_batch_size`: the number of data points used in the positive phase of the gradient (default = 100)\n",
    "3. `neg_batch_size`: the number of data points used in the negative phase of the gradient (default = `pos_batch_size`)\n",
    "4. `k`: the number of contrastive divergence steps (default = 1)\n",
    "5. `lr`: coefficient that scales the default value of the (non-constant) learning rate of the Adadelta algorithm (default = 1)\n",
    "\n",
    "Extra hyperparameters that we will be passing to the learning rate scheduler:\n",
    "6. `lr_drop_epochs`: the number of epochs after which to decay the learning rate by `lr_drop_factor`\n",
    "7. `lr_drop_factor`: the factor by which the learning rate drops at `lr_drop_epoch` or all epochs in `lr_drop_epoch` if it is a list\n",
    "\n",
    "Set `lr_drop_factor` to 1.0 to maintain constant \"base\" learning rate for Adadelta optimization. The choice shown here is optimized for this tutorial, but can (and should) be varied according to each instance\n",
    "\n",
    "   **Note:** For more information on the hyperparameters above, it is strongly encouraged that the user to read through the brief, but thorough theory document on RBMs. One does not have to specify these hyperparameters, as their default values will be used without the user overwriting them. It is recommended to keep with the default values until the user has a stronger grasp on what these hyperparameters mean. The quality and the computational efficiency of the training will highly depend on the choice of hyperparameters. As such, playing around with the hyperparameters is almost always necessary. "
   ]
  },
  {
   "cell_type": "code",
   "execution_count": 5,
   "metadata": {},
   "outputs": [],
   "source": [
    "epochs = 500\n",
    "pbs = 100  # pos_batch_size\n",
    "nbs = pbs  # neg_batch_size\n",
    "lr = 10\n",
    "k = 10\n",
    "lr_drop_epoch = 125\n",
    "lr_drop_factor = 0.5"
   ]
  },
  {
   "cell_type": "markdown",
   "metadata": {},
   "source": [
    "For evaluating the training in real time, the `MetricEvaluator` will be called to calculate the training evaluators every `period` epochs. The `MetricEvaluator` requires the following arguments.\n",
    "\n",
    "1. `period`: the frequency of the training evaluators being calculated (e.g. `period=200` means that the `MetricEvaluator` will compute the desired metrics every 200 epochs)\n",
    "2. A dictionary of functions you would like to reference to evaluate the training (arguments required for these functions are keyword arguments placed after the dictionary)\n",
    "\n",
    "The following additional arguments are needed to calculate the fidelity and KL divergence in the `training_statistics` utility.\n",
    "\n",
    "- `target_matrix` (the true density matrix of the system)\n",
    "- `space` (the entire Hilbert space of the system)\n",
    "\n",
    "The training evaluators can be printed out via the `verbose=True` statement.\n",
    "\n",
    "Although the fidelity and KL divergence are excellent training evaluators, they are not practical to calculate in most cases; the user may not have access to the target wavefunction of the system, nor may generating the Hilbert space of the system be computationally feasible. However, evaluating the training in real time is extremely convenient. \n",
    "\n",
    "Any custom function that the user would like to use to evaluate the training can be given to the `MetricEvaluator`, thus avoiding having to calculate fidelity and/or KL divergence. As an example, a function to compute the partition function of the current density matrix is presented. Any custom function given to `MetricEvaluator` must take the neural-network state (in this case, the `Density` object) and keyword arguments. Although the given example requires the Hilbert space to be computed, the scope of the `MetricEvaluator`'s ability to be able to handle any function should still be evident."
   ]
  },
  {
   "cell_type": "code",
   "execution_count": 6,
   "metadata": {},
   "outputs": [],
   "source": [
    "def partition(nn_state, space, **kwargs):\n",
    "    return nn_state.rbm_am.partition(space)"
   ]
  },
  {
   "cell_type": "markdown",
   "metadata": {},
   "source": [
    "Now the Hilbert space of the system must be generated for the fidelity and KL divergence and the dictionary of functions the user would like to compute every `period` epochs must be given to the `MetricEvaluator`."
   ]
  },
  {
   "cell_type": "code",
   "execution_count": 7,
   "metadata": {},
   "outputs": [],
   "source": [
    "period = 25\n",
    "space = nn_state.generate_hilbert_space()\n",
    "\n",
    "callbacks = [\n",
    "    MetricEvaluator(\n",
    "        period,\n",
    "        {\n",
    "            \"Fidelity\": ts.fidelity,\n",
    "            \"KL\": ts.KL,\n",
    "            # \"Partition Function\": partition,\n",
    "        },\n",
    "        target=true_matrix,\n",
    "        bases=bases,\n",
    "        verbose=True,\n",
    "        space=space,\n",
    "    )\n",
    "]"
   ]
  },
  {
   "cell_type": "markdown",
   "metadata": {},
   "source": [
    "Now the training can begin. The `DensityMatrix` object has a function called `fit` which takes care of this."
   ]
  },
  {
   "cell_type": "code",
   "execution_count": 8,
   "metadata": {
    "scrolled": false
   },
   "outputs": [
    {
     "name": "stdout",
     "output_type": "stream",
     "text": [
      "Epoch: 25\tFidelity = 0.863061\tKL = 0.050122\n",
      "Epoch: 50\tFidelity = 0.946054\tKL = 0.013152\n",
      "Epoch: 75\tFidelity = 0.950760\tKL = 0.016754\n",
      "Epoch: 100\tFidelity = 0.957204\tKL = 0.015601\n",
      "Epoch: 125\tFidelity = 0.960522\tKL = 0.013925\n",
      "Epoch: 150\tFidelity = 0.957411\tKL = 0.017446\n",
      "Epoch: 175\tFidelity = 0.961068\tKL = 0.013377\n",
      "Epoch: 200\tFidelity = 0.966589\tKL = 0.010754\n",
      "Epoch: 225\tFidelity = 0.951836\tKL = 0.017970\n",
      "Epoch: 250\tFidelity = 0.960255\tKL = 0.012612\n",
      "Epoch: 275\tFidelity = 0.961232\tKL = 0.012477\n",
      "Epoch: 300\tFidelity = 0.963946\tKL = 0.011832\n",
      "Epoch: 325\tFidelity = 0.959750\tKL = 0.013571\n",
      "Epoch: 350\tFidelity = 0.965108\tKL = 0.011095\n",
      "Epoch: 375\tFidelity = 0.965353\tKL = 0.011048\n",
      "Epoch: 400\tFidelity = 0.963568\tKL = 0.011941\n",
      "Epoch: 425\tFidelity = 0.966334\tKL = 0.011148\n",
      "Epoch: 450\tFidelity = 0.965549\tKL = 0.011321\n",
      "Epoch: 475\tFidelity = 0.965054\tKL = 0.011573\n",
      "Epoch: 500\tFidelity = 0.965568\tKL = 0.010963\n",
      "Total time elapsed during training: 175.240 s\n"
     ]
    }
   ],
   "source": [
    "nn_state.fit(\n",
    "    data=train_samples,\n",
    "    input_bases=train_bases,\n",
    "    epochs=epochs,\n",
    "    pos_batch_size=pbs,\n",
    "    neg_batch_size=nbs,\n",
    "    lr=lr,\n",
    "    k=k,\n",
    "    bases=bases,\n",
    "    callbacks=callbacks,\n",
    "    time=True,\n",
    "    optimizer=torch.optim.Adadelta,\n",
    "    scheduler=torch.optim.lr_scheduler.StepLR,\n",
    "    scheduler_args={\"step_size\": lr_drop_epoch, \"gamma\": lr_drop_factor},\n",
    ")"
   ]
  },
  {
   "cell_type": "markdown",
   "metadata": {},
   "source": [
    "All of these training evaluators can be accessed after the training has completed, as well. The code below shows this, along with plots of each training evaluator versus the training cycle number (epoch)."
   ]
  },
  {
   "cell_type": "code",
   "execution_count": 9,
   "metadata": {},
   "outputs": [],
   "source": [
    "fidelities = callbacks[0][\"Fidelity\"]\n",
    "KLs = callbacks[0][\"KL\"]\n",
    "epoch = np.arange(period, epochs + 1, period)"
   ]
  },
  {
   "cell_type": "code",
   "execution_count": 10,
   "metadata": {},
   "outputs": [
    {
     "data": {
      "text/plain": [
       "Text(0.5, 0, 'Epoch')"
      ]
     },
     "execution_count": 10,
     "metadata": {},
     "output_type": "execute_result"
    },
    {
     "data": {
      "image/png": "[encoded data removed]",
      "text/plain": [
       "<Figure size 1008x216 with 2 Axes>"
      ]
     },
     "metadata": {
      "needs_background": "light"
     },
     "output_type": "display_data"
    }
   ],
   "source": [
    "fig, axs = plt.subplots(nrows=1, ncols=2, figsize=(14, 3))\n",
    "ax = axs[0]\n",
    "ax.plot(epoch, fidelities, \"o\", color=\"C0\", markeredgecolor=\"black\")\n",
    "ax.set_ylabel(r\"Fidelity\")\n",
    "ax.set_xlabel(r\"Epoch\")\n",
    "ax.set_ylim(0.75, 1.00)\n",
    "\n",
    "ax = axs[1]\n",
    "ax.plot(epoch, KLs, \"o\", color=\"C1\", markeredgecolor=\"black\")\n",
    "ax.set_ylabel(r\"KL Divergence\")\n",
    "ax.set_xlabel(r\"Epoch\")"
   ]
  },
  {
   "cell_type": "markdown",
   "metadata": {},
   "source": [
    "This saves the weights, and biases of the two internal RBMs as dictionaries containing torch tensors."
   ]
  },
  {
   "cell_type": "code",
   "execution_count": 11,
   "metadata": {},
   "outputs": [],
   "source": [
    "nn_state.save(\"saved_params_W_state.pt\")"
   ]
  }
 ],
 "metadata": {
  "file_extension": ".py",
  "kernelspec": {
   "display_name": "Python 3",
   "language": "python",
   "name": "python3"
  },
  "language_info": {
   "codemirror_mode": {
    "name": "ipython",
    "version": 3
   },
   "file_extension": ".py",
   "mimetype": "text/x-python",
   "name": "python",
   "nbconvert_exporter": "python",
   "pygments_lexer": "ipython3",
   "version": "3.7.5"
  },
  "mimetype": "text/x-python",
  "name": "python",
  "npconvert_exporter": "python",
  "pygments_lexer": "ipython3",
  "version": 3
 },
 "nbformat": 4,
 "nbformat_minor": 2
}
